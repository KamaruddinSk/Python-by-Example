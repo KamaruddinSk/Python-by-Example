{
  "nbformat": 4,
  "nbformat_minor": 0,
  "metadata": {
    "colab": {
      "name": "challenge33.ipynb",
      "provenance": [],
      "authorship_tag": "ABX9TyOev5ZPdn3JoP7uRAJzFKJl",
      "include_colab_link": true
    },
    "kernelspec": {
      "name": "python3",
      "display_name": "Python 3"
    },
    "language_info": {
      "name": "python"
    }
  },
  "cells": [
    {
      "cell_type": "markdown",
      "metadata": {
        "id": "view-in-github",
        "colab_type": "text"
      },
      "source": [
        "<a href=\"https://colab.research.google.com/github/KamaruddinSk/Python-by-Example/blob/main/challenge33.ipynb\" target=\"_parent\"><img src=\"https://colab.research.google.com/assets/colab-badge.svg\" alt=\"Open In Colab\"/></a>"
      ]
    },
    {
      "cell_type": "markdown",
      "source": [
        "Ask the user to enter two numbers.\n",
        "Use whole number division to divide\n",
        "the first number by the second and\n",
        "also work out the remainder and\n",
        "display the answer in a user-friendly\n",
        "way (e.g. if they enter 7 and 2 display\n",
        "“7 divided by 2 is 3 with 1\n",
        "remaining”)."
      ],
      "metadata": {
        "id": "OVlKo8lG8deh"
      }
    },
    {
      "cell_type": "code",
      "execution_count": 1,
      "metadata": {
        "colab": {
          "base_uri": "https://localhost:8080/"
        },
        "id": "6Y244QrI8cZx",
        "outputId": "4a3ef554-ee66-443e-ac1e-0013f62d0971"
      },
      "outputs": [
        {
          "output_type": "stream",
          "name": "stdout",
          "text": [
            "Enter first number: 11\n",
            "Enter second number: 3\n",
            "11 divided by 3 is 3 with 2 remaining.\n"
          ]
        }
      ],
      "source": [
        "num1 = int(input(\"Enter first number: \"))\n",
        "num2 = int(input(\"Enter second number: \"))\n",
        "quotient = num1 // num2\n",
        "remainder = num1 % num2\n",
        "\n",
        "print(\"{} divided by {} is {} with {} remaining.\".format(num1, num2, quotient, remainder))"
      ]
    }
  ]
}