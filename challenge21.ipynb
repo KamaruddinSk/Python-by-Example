{
  "nbformat": 4,
  "nbformat_minor": 0,
  "metadata": {
    "colab": {
      "name": "challenge21.ipynb",
      "provenance": [],
      "authorship_tag": "ABX9TyNAkQ84CKHX7cqaHCF6C//F",
      "include_colab_link": true
    },
    "kernelspec": {
      "name": "python3",
      "display_name": "Python 3"
    },
    "language_info": {
      "name": "python"
    }
  },
  "cells": [
    {
      "cell_type": "markdown",
      "metadata": {
        "id": "view-in-github",
        "colab_type": "text"
      },
      "source": [
        "<a href=\"https://colab.research.google.com/github/KamaruddinSk/Python-by-Example/blob/main/challenge21.ipynb\" target=\"_parent\"><img src=\"https://colab.research.google.com/assets/colab-badge.svg\" alt=\"Open In Colab\"/></a>"
      ]
    },
    {
      "cell_type": "markdown",
      "source": [
        "Ask the user to enter their first name and then ask them to\n",
        "enter their surname. Join them together with a space between\n",
        "and display the name and the length of whole name."
      ],
      "metadata": {
        "id": "lPRSA_VVqF6p"
      }
    },
    {
      "cell_type": "code",
      "execution_count": 3,
      "metadata": {
        "colab": {
          "base_uri": "https://localhost:8080/"
        },
        "id": "nNhktjrLp98z",
        "outputId": "a6413d13-8dca-477d-ad3d-25d91a10e82b"
      },
      "outputs": [
        {
          "output_type": "stream",
          "name": "stdout",
          "text": [
            "Enter your first name: Ramesh\n",
            "Enter your surname: Sahoo\n",
            "Name = Ramesh Sahoo\n",
            "Length of whole name = 12\n"
          ]
        }
      ],
      "source": [
        "fname = input(\"Enter your first name: \")\n",
        "lname = input(\"Enter your surname: \")\n",
        "name = fname + ' ' + lname\n",
        "print(f\"Name = {name}\")\n",
        "print(\"Length of whole name = %d\" % len(name))"
      ]
    }
  ]
}