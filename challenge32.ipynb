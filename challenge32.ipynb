{
  "nbformat": 4,
  "nbformat_minor": 0,
  "metadata": {
    "colab": {
      "name": "challenge32.ipynb",
      "provenance": [],
      "authorship_tag": "ABX9TyOGa42uuGPVxv1oTyXZRPgP",
      "include_colab_link": true
    },
    "kernelspec": {
      "name": "python3",
      "display_name": "Python 3"
    },
    "language_info": {
      "name": "python"
    }
  },
  "cells": [
    {
      "cell_type": "markdown",
      "metadata": {
        "id": "view-in-github",
        "colab_type": "text"
      },
      "source": [
        "<a href=\"https://colab.research.google.com/github/KamaruddinSk/Python-by-Example/blob/main/challenge32.ipynb\" target=\"_parent\"><img src=\"https://colab.research.google.com/assets/colab-badge.svg\" alt=\"Open In Colab\"/></a>"
      ]
    },
    {
      "cell_type": "markdown",
      "source": [
        "Ask for the radius and the depth of a cylinder and work out the total volume (circle area * depth) rounded to three decimal places."
      ],
      "metadata": {
        "id": "ESF2nQ3Z5V4R"
      }
    },
    {
      "cell_type": "code",
      "execution_count": 1,
      "metadata": {
        "colab": {
          "base_uri": "https://localhost:8080/"
        },
        "id": "7XYGAiCX5U3a",
        "outputId": "d32a041b-205a-4fd9-fc6a-094bdec0b8d8"
      },
      "outputs": [
        {
          "output_type": "stream",
          "name": "stdout",
          "text": [
            "Enter the radius of the cylinder (in float): 2.5\n",
            "Enter the depth of the cylinder (in float): 5.0\n",
            "Volume of the cylinder = 98.175\n"
          ]
        }
      ],
      "source": [
        "import math\n",
        "\n",
        "radius = float(input(\"Enter the radius of the cylinder (in float): \"))\n",
        "depth = float(input(\"Enter the depth of the cylinder (in float): \"))\n",
        "\n",
        "volume = math.pi * math.pow(radius, 2) * depth\n",
        "print(\"Volume of the cylinder = {:.3f}\".format(volume))"
      ]
    }
  ]
}