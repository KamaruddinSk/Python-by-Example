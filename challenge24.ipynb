{
  "nbformat": 4,
  "nbformat_minor": 0,
  "metadata": {
    "colab": {
      "name": "challenge24.ipynb",
      "provenance": [],
      "authorship_tag": "ABX9TyOjncN+2rznq9xGM8Tq2S7t",
      "include_colab_link": true
    },
    "kernelspec": {
      "name": "python3",
      "display_name": "Python 3"
    },
    "language_info": {
      "name": "python"
    }
  },
  "cells": [
    {
      "cell_type": "markdown",
      "metadata": {
        "id": "view-in-github",
        "colab_type": "text"
      },
      "source": [
        "<a href=\"https://colab.research.google.com/github/KamaruddinSk/Python-by-Example/blob/main/challenge24.ipynb\" target=\"_parent\"><img src=\"https://colab.research.google.com/assets/colab-badge.svg\" alt=\"Open In Colab\"/></a>"
      ]
    },
    {
      "cell_type": "markdown",
      "source": [
        "Ask the user to type in any word and display it in\n",
        "upper case."
      ],
      "metadata": {
        "id": "xwd5tVgOw6on"
      }
    },
    {
      "cell_type": "code",
      "execution_count": 1,
      "metadata": {
        "colab": {
          "base_uri": "https://localhost:8080/"
        },
        "id": "VuDRYguUw2b7",
        "outputId": "334f0de4-79af-41e3-935d-620d46a63882"
      },
      "outputs": [
        {
          "output_type": "stream",
          "name": "stdout",
          "text": [
            "Enter a word: chair\n",
            "The word in upper case = CHAIR\n"
          ]
        }
      ],
      "source": [
        "w = input(\"Enter a word: \")\n",
        "print(\"The word in upper case = {}\".format(w.upper()))"
      ]
    }
  ]
}