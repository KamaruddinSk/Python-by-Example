{
  "nbformat": 4,
  "nbformat_minor": 0,
  "metadata": {
    "colab": {
      "name": "challenge34.ipynb",
      "provenance": [],
      "authorship_tag": "ABX9TyNVhHuU1X2IX+xSYjW2KZid",
      "include_colab_link": true
    },
    "kernelspec": {
      "name": "python3",
      "display_name": "Python 3"
    },
    "language_info": {
      "name": "python"
    }
  },
  "cells": [
    {
      "cell_type": "markdown",
      "metadata": {
        "id": "view-in-github",
        "colab_type": "text"
      },
      "source": [
        "<a href=\"https://colab.research.google.com/github/KamaruddinSk/Python-by-Example/blob/main/challenge34.ipynb\" target=\"_parent\"><img src=\"https://colab.research.google.com/assets/colab-badge.svg\" alt=\"Open In Colab\"/></a>"
      ]
    },
    {
      "cell_type": "markdown",
      "source": [
        "Display the following message:\n",
        "```\n",
        "1) Square\n",
        "2) Triangle\n",
        "\n",
        "Enter a number:\n",
        "```\n",
        "\n",
        "\n",
        "If the user enters 1, then it should ask them for\n",
        "the length of one of its sides and display the\n",
        "area. If they select 2, it should ask for the base\n",
        "and height of the triangle and display the area. If\n",
        "they type in anything else, it should give them a\n",
        "suitable error message."
      ],
      "metadata": {
        "id": "LMfAU2O1AjJn"
      }
    },
    {
      "cell_type": "code",
      "execution_count": 1,
      "metadata": {
        "colab": {
          "base_uri": "https://localhost:8080/"
        },
        "id": "-6CwKIaQAigw",
        "outputId": "a54c2c43-2a70-4bab-8a1c-4afd61991c9a"
      },
      "outputs": [
        {
          "output_type": "stream",
          "name": "stdout",
          "text": [
            "1) Square\n",
            "2) Triangle\n",
            "Enter a number: 2\n",
            "Enter the length of base: 6\n",
            "Enter the height: 4\n",
            "Area of the triangle = 12.0\n"
          ]
        }
      ],
      "source": [
        "print(\"1) Square\")\n",
        "print(\"2) Triangle\")\n",
        "\n",
        "\n",
        "ch = int(input(\"Enter a number: \"))\n",
        "\n",
        "if int(ch)>2 or int(ch) < 1:\n",
        "    raise Exception(\"Entered number should be 1 or 2.\")\n",
        "if ch == 1:\n",
        "    length = float(input(\"Enter the length of one side: \"))\n",
        "    area = length * length\n",
        "    print(\"Area of the square = {}\".format(area))\n",
        "if ch == 2:\n",
        "    base = float(input(\"Enter the length of base: \"))\n",
        "    height = float(input(\"Enter the height: \"))\n",
        "    area = 0.5 * base * height\n",
        "    print(\"Area of the triangle = {}\".format(area))\n",
        "\n"
      ]
    }
  ]
}