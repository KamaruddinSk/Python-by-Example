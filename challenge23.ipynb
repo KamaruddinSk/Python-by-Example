{
  "nbformat": 4,
  "nbformat_minor": 0,
  "metadata": {
    "colab": {
      "name": "challenge23.ipynb",
      "provenance": [],
      "authorship_tag": "ABX9TyOsI6vM/qIyCXw7O/18X9co",
      "include_colab_link": true
    },
    "kernelspec": {
      "name": "python3",
      "display_name": "Python 3"
    },
    "language_info": {
      "name": "python"
    }
  },
  "cells": [
    {
      "cell_type": "markdown",
      "metadata": {
        "id": "view-in-github",
        "colab_type": "text"
      },
      "source": [
        "<a href=\"https://colab.research.google.com/github/KamaruddinSk/Python-by-Example/blob/main/challenge23.ipynb\" target=\"_parent\"><img src=\"https://colab.research.google.com/assets/colab-badge.svg\" alt=\"Open In Colab\"/></a>"
      ]
    },
    {
      "cell_type": "markdown",
      "source": [
        "Ask the user to type in the first\n",
        "line of a nursery rhyme and\n",
        "display the length of the string.\n",
        "Ask for a starting number and an\n",
        "ending number and then display\n",
        "just that section of the text\n",
        "(remember Python starts\n",
        "counting from 0 and not 1)."
      ],
      "metadata": {
        "id": "tbyYQGmPuM4h"
      }
    },
    {
      "cell_type": "code",
      "execution_count": 1,
      "metadata": {
        "colab": {
          "base_uri": "https://localhost:8080/"
        },
        "id": "ZubA9hajuLmv",
        "outputId": "d8e3ac39-ecf2-4ee3-df9d-22b3a47edf13"
      },
      "outputs": [
        {
          "output_type": "stream",
          "name": "stdout",
          "text": [
            "Enter the first line of a nursery rhyme: one, two, three, four, five; once I cought a fish alive.\n",
            "Length of the string: 56\n",
            "Enter the starting number of the text section: 5\n",
            "Enter the ending number of the text section: 15\n",
            "Section of the text: two, three\n"
          ]
        }
      ],
      "source": [
        "fline = input(\"Enter the first line of a nursery rhyme: \")\n",
        "print(f\"Length of the string: {len(fline)}\")\n",
        "startnum = int(input(\"Enter the starting number of the text section: \"))\n",
        "endnum = int(input(\"Enter the ending number of the text section: \"))\n",
        "print(\"Section of the text: %s\" % fline[startnum:endnum])"
      ]
    }
  ]
}