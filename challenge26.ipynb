{
  "nbformat": 4,
  "nbformat_minor": 0,
  "metadata": {
    "colab": {
      "name": "challenge26.ipynb",
      "provenance": [],
      "authorship_tag": "ABX9TyNc0+ezS8Rm26Wh732GqIDT",
      "include_colab_link": true
    },
    "kernelspec": {
      "name": "python3",
      "display_name": "Python 3"
    },
    "language_info": {
      "name": "python"
    }
  },
  "cells": [
    {
      "cell_type": "markdown",
      "metadata": {
        "id": "view-in-github",
        "colab_type": "text"
      },
      "source": [
        "<a href=\"https://colab.research.google.com/github/KamaruddinSk/Python-by-Example/blob/main/challenge26.ipynb\" target=\"_parent\"><img src=\"https://colab.research.google.com/assets/colab-badge.svg\" alt=\"Open In Colab\"/></a>"
      ]
    },
    {
      "cell_type": "markdown",
      "source": [
        "Pig Latin takes the first consonant of a word,\n",
        "moves it to the end of the word and adds on an\n",
        "“ay”. If a word begins with a vowel you just add\n",
        "“way” to the end. For example, pig becomes igpay,\n",
        "banana becomes ananabay, and aadvark becomes\n",
        "aadvarkway. Create a program that will ask the\n",
        "user to enter a word and change it into Pig Latin.\n",
        "Make sure the new word is displayed in lower case."
      ],
      "metadata": {
        "id": "vwfZqB_D5JgI"
      }
    },
    {
      "cell_type": "code",
      "execution_count": 1,
      "metadata": {
        "colab": {
          "base_uri": "https://localhost:8080/"
        },
        "id": "efeA7Aru5D7q",
        "outputId": "387c9355-b001-4f51-e2bd-949c1d7a8311"
      },
      "outputs": [
        {
          "output_type": "stream",
          "name": "stdout",
          "text": [
            "Enter a word: Orange\n",
            "The word in Pig Latin: orangeway\n"
          ]
        }
      ],
      "source": [
        "vowels = ['a','e','i','o','u','A','E','I','O','U']\n",
        "word = input(\"Enter a word: \")\n",
        "if word[0:1] in vowels:\n",
        "    word = word+'way'\n",
        "else:\n",
        "    word = word[1:]+word[0:1]+'ay'\n",
        "print(f\"The word in Pig Latin: {word.lower()}\")"
      ]
    }
  ]
}