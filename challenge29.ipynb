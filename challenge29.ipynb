{
  "nbformat": 4,
  "nbformat_minor": 0,
  "metadata": {
    "colab": {
      "name": "challenge29.ipynb",
      "provenance": [],
      "authorship_tag": "ABX9TyPKvkA23ma7/q2e9C7O8wyh",
      "include_colab_link": true
    },
    "kernelspec": {
      "name": "python3",
      "display_name": "Python 3"
    },
    "language_info": {
      "name": "python"
    }
  },
  "cells": [
    {
      "cell_type": "markdown",
      "metadata": {
        "id": "view-in-github",
        "colab_type": "text"
      },
      "source": [
        "<a href=\"https://colab.research.google.com/github/KamaruddinSk/Python-by-Example/blob/main/challenge29.ipynb\" target=\"_parent\"><img src=\"https://colab.research.google.com/assets/colab-badge.svg\" alt=\"Open In Colab\"/></a>"
      ]
    },
    {
      "cell_type": "markdown",
      "source": [
        "Ask the user to enter an integer that is over 500. Work\n",
        "out the square root of that number and display it to two\n",
        "decimal places."
      ],
      "metadata": {
        "id": "kU6eiXoNrgtS"
      }
    },
    {
      "cell_type": "code",
      "execution_count": 1,
      "metadata": {
        "id": "MvWgwYPzrdQA",
        "colab": {
          "base_uri": "https://localhost:8080/"
        },
        "outputId": "50b7a4a5-9129-465d-9a29-58ce22873efd"
      },
      "outputs": [
        {
          "output_type": "stream",
          "name": "stdout",
          "text": [
            "Enter an integer over 500: 643\n",
            "Square root of the mumber = 25.36\n"
          ]
        }
      ],
      "source": [
        "import math\n",
        "num = int(input(\"Enter an integer over 500: \"))\n",
        "sroot = math.sqrt(num)\n",
        "print(f\"Square root of the mumber = {round(sroot, 2)}\")"
      ]
    }
  ]
}