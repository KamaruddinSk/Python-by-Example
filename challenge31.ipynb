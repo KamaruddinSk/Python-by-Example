{
  "nbformat": 4,
  "nbformat_minor": 0,
  "metadata": {
    "colab": {
      "name": "challenge31.ipynb",
      "provenance": [],
      "authorship_tag": "ABX9TyNM+rizYEvd6pUnbM7mAuF2",
      "include_colab_link": true
    },
    "kernelspec": {
      "name": "python3",
      "display_name": "Python 3"
    },
    "language_info": {
      "name": "python"
    }
  },
  "cells": [
    {
      "cell_type": "markdown",
      "metadata": {
        "id": "view-in-github",
        "colab_type": "text"
      },
      "source": [
        "<a href=\"https://colab.research.google.com/github/KamaruddinSk/Python-by-Example/blob/main/challenge31.ipynb\" target=\"_parent\"><img src=\"https://colab.research.google.com/assets/colab-badge.svg\" alt=\"Open In Colab\"/></a>"
      ]
    },
    {
      "cell_type": "markdown",
      "source": [
        "Ask the user to enter the radius of a circle\n",
        "(measurement from the centre point to the edge). Work\n",
        "out the area of the circle (π * radius<sup>2</sup>)."
      ],
      "metadata": {
        "id": "y3rlrbIm2m_L"
      }
    },
    {
      "cell_type": "code",
      "execution_count": 1,
      "metadata": {
        "colab": {
          "base_uri": "https://localhost:8080/"
        },
        "id": "n69rPAg32mIT",
        "outputId": "1362e551-0f55-4d1b-eddb-8ccb26891a14"
      },
      "outputs": [
        {
          "output_type": "stream",
          "name": "stdout",
          "text": [
            "Enter the radius of a circle (in float): 2.0\n",
            "Area of the circle = 12.57\n"
          ]
        }
      ],
      "source": [
        "import math\n",
        "radius = float(input(\"Enter the radius of a circle (in float): \"))\n",
        "area = math.pi * math.pow(radius, 2)\n",
        "print(\"Area of the circle = {:.2f}\".format(area))"
      ]
    }
  ]
}