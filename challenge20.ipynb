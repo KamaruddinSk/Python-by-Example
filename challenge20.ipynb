{
  "nbformat": 4,
  "nbformat_minor": 0,
  "metadata": {
    "colab": {
      "name": "challenge20.ipynb",
      "provenance": [],
      "authorship_tag": "ABX9TyNPei22TCWRtN1NxfmMsDTa",
      "include_colab_link": true
    },
    "kernelspec": {
      "name": "python3",
      "display_name": "Python 3"
    },
    "language_info": {
      "name": "python"
    }
  },
  "cells": [
    {
      "cell_type": "markdown",
      "metadata": {
        "id": "view-in-github",
        "colab_type": "text"
      },
      "source": [
        "<a href=\"https://colab.research.google.com/github/KamaruddinSk/Python-by-Example/blob/main/challenge20.ipynb\" target=\"_parent\"><img src=\"https://colab.research.google.com/assets/colab-badge.svg\" alt=\"Open In Colab\"/></a>"
      ]
    },
    {
      "cell_type": "markdown",
      "source": [
        "Ask the user to enter\n",
        "their first name and\n",
        "then display the\n",
        "length of their name."
      ],
      "metadata": {
        "id": "fQf1iFikpASv"
      }
    },
    {
      "cell_type": "code",
      "execution_count": 1,
      "metadata": {
        "colab": {
          "base_uri": "https://localhost:8080/"
        },
        "id": "hZFdYYrWon8L",
        "outputId": "3fe56e23-1f32-4993-c406-0ccd08ca4b63"
      },
      "outputs": [
        {
          "output_type": "stream",
          "name": "stdout",
          "text": [
            "Enter your firstname: Ramesh\n",
            "Length of name = 6\n"
          ]
        }
      ],
      "source": [
        "fname = input(\"Enter your firstname: \")\n",
        "print(\"Length of name = %d\" % len(fname))"
      ]
    }
  ]
}