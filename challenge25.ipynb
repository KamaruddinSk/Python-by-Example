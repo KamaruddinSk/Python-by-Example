{
  "nbformat": 4,
  "nbformat_minor": 0,
  "metadata": {
    "colab": {
      "name": "challenge25.ipynb",
      "provenance": [],
      "authorship_tag": "ABX9TyPYXBmQ3pkNxQl/HZd4SN2a",
      "include_colab_link": true
    },
    "kernelspec": {
      "name": "python3",
      "display_name": "Python 3"
    },
    "language_info": {
      "name": "python"
    }
  },
  "cells": [
    {
      "cell_type": "markdown",
      "metadata": {
        "id": "view-in-github",
        "colab_type": "text"
      },
      "source": [
        "<a href=\"https://colab.research.google.com/github/KamaruddinSk/Python-by-Example/blob/main/challenge25.ipynb\" target=\"_parent\"><img src=\"https://colab.research.google.com/assets/colab-badge.svg\" alt=\"Open In Colab\"/></a>"
      ]
    },
    {
      "cell_type": "markdown",
      "source": [
        "Ask the user to enter their first name. If the length\n",
        "of their first name is under five characters, ask\n",
        "them to enter their surname and join them\n",
        "together (without a space) and display the name\n",
        "in upper case. If the length of the first name is five\n",
        "or more characters, display their first name in\n",
        "lower case."
      ],
      "metadata": {
        "id": "L_Hesz2M2NLe"
      }
    },
    {
      "cell_type": "code",
      "execution_count": 2,
      "metadata": {
        "colab": {
          "base_uri": "https://localhost:8080/"
        },
        "id": "gQLlruZP2Ft3",
        "outputId": "4754ef95-a0a5-442e-d22c-bc2c260a123a"
      },
      "outputs": [
        {
          "output_type": "stream",
          "name": "stdout",
          "text": [
            "Enter your first name: Rima\n",
            "Enter your surname: Lagoo\n",
            "Name = RIMALAGOO\n"
          ]
        }
      ],
      "source": [
        "fname = input(\"Enter your first name: \")\n",
        "if len(fname) < 5:\n",
        "    lname = input(\"Enter your surname: \")\n",
        "    print(\"Name = {}\".format((fname+lname).upper()))\n",
        "else:\n",
        "    print(f\"Name = {fname.lower()}\")"
      ]
    }
  ]
}