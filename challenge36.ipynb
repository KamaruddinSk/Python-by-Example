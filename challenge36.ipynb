{
  "nbformat": 4,
  "nbformat_minor": 0,
  "metadata": {
    "colab": {
      "name": "challenge36.ipynb",
      "provenance": [],
      "authorship_tag": "ABX9TyMbn0s0fdAlB65IYFCMxTT9",
      "include_colab_link": true
    },
    "kernelspec": {
      "name": "python3",
      "display_name": "Python 3"
    },
    "language_info": {
      "name": "python"
    }
  },
  "cells": [
    {
      "cell_type": "markdown",
      "metadata": {
        "id": "view-in-github",
        "colab_type": "text"
      },
      "source": [
        "<a href=\"https://colab.research.google.com/github/KamaruddinSk/Python-by-Example/blob/main/challenge36.ipynb\" target=\"_parent\"><img src=\"https://colab.research.google.com/assets/colab-badge.svg\" alt=\"Open In Colab\"/></a>"
      ]
    },
    {
      "cell_type": "markdown",
      "source": [
        "Alter program 035 so that it will ask the user to enter their\n",
        "name and a number and then display their name that\n",
        "number of times."
      ],
      "metadata": {
        "id": "MSWJA0soYE-5"
      }
    },
    {
      "cell_type": "code",
      "execution_count": 1,
      "metadata": {
        "colab": {
          "base_uri": "https://localhost:8080/"
        },
        "id": "ktICEsVlYEa9",
        "outputId": "c0486162-3385-47f3-80f2-2e6245cb4138"
      },
      "outputs": [
        {
          "output_type": "stream",
          "name": "stdout",
          "text": [
            "Enter your name: Ramesh\n",
            "Enter a number: 5\n",
            "RameshRameshRameshRameshRamesh\n"
          ]
        }
      ],
      "source": [
        "name = input(\"Enter your name: \")\n",
        "count = int(input(\"Enter a number: \"))\n",
        "print(name*count)"
      ]
    }
  ]
}