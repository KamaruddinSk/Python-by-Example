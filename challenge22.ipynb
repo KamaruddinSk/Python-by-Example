{
  "nbformat": 4,
  "nbformat_minor": 0,
  "metadata": {
    "colab": {
      "name": "challenge22.ipynb",
      "provenance": [],
      "authorship_tag": "ABX9TyNG6H3KcAc8UUK3wEzoT2N/",
      "include_colab_link": true
    },
    "kernelspec": {
      "name": "python3",
      "display_name": "Python 3"
    },
    "language_info": {
      "name": "python"
    }
  },
  "cells": [
    {
      "cell_type": "markdown",
      "metadata": {
        "id": "view-in-github",
        "colab_type": "text"
      },
      "source": [
        "<a href=\"https://colab.research.google.com/github/KamaruddinSk/Python-by-Example/blob/main/challenge22.ipynb\" target=\"_parent\"><img src=\"https://colab.research.google.com/assets/colab-badge.svg\" alt=\"Open In Colab\"/></a>"
      ]
    },
    {
      "cell_type": "markdown",
      "source": [
        "Ask the user to enter their first name and surname in lower\n",
        "case. Change the case to title case and join them together.\n",
        "Display the finished result."
      ],
      "metadata": {
        "id": "9XLpzO0dsmUl"
      }
    },
    {
      "cell_type": "code",
      "execution_count": 1,
      "metadata": {
        "colab": {
          "base_uri": "https://localhost:8080/"
        },
        "id": "gATzFhqYsfxD",
        "outputId": "fecfb94c-9156-42c7-8706-418d3e710ee7"
      },
      "outputs": [
        {
          "output_type": "stream",
          "name": "stdout",
          "text": [
            "Enter your first name in lower case: ramesh\n",
            "Enter your surname in lower case: sahoo\n",
            "Name: RameshSahoo\n"
          ]
        }
      ],
      "source": [
        "fname = input(\"Enter your first name in lower case: \")\n",
        "lname = input(\"Enter your surname in lower case: \")\n",
        "fname = fname.title()\n",
        "lname = lname.title()\n",
        "name = fname + lname\n",
        "print(f\"Name: {name}\")"
      ]
    }
  ]
}