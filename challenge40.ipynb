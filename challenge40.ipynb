{
  "nbformat": 4,
  "nbformat_minor": 0,
  "metadata": {
    "colab": {
      "name": "challenge40.ipynb",
      "provenance": [],
      "authorship_tag": "ABX9TyPhtGiLq5jQdXC/QxvYtiyU",
      "include_colab_link": true
    },
    "kernelspec": {
      "name": "python3",
      "display_name": "Python 3"
    },
    "language_info": {
      "name": "python"
    }
  },
  "cells": [
    {
      "cell_type": "markdown",
      "metadata": {
        "id": "view-in-github",
        "colab_type": "text"
      },
      "source": [
        "<a href=\"https://colab.research.google.com/github/KamaruddinSk/Python-by-Example/blob/main/challenge40.ipynb\" target=\"_parent\"><img src=\"https://colab.research.google.com/assets/colab-badge.svg\" alt=\"Open In Colab\"/></a>"
      ]
    },
    {
      "cell_type": "markdown",
      "source": [
        "Ask for a number below 50 and then count down from\n",
        "50 to that number, making sure you show the number they entered in the output."
      ],
      "metadata": {
        "id": "OryYqSa-b7bq"
      }
    },
    {
      "cell_type": "code",
      "execution_count": 1,
      "metadata": {
        "colab": {
          "base_uri": "https://localhost:8080/"
        },
        "id": "miAfdkPxb6hB",
        "outputId": "1d508adf-e535-48cb-f444-056de0fad070"
      },
      "outputs": [
        {
          "output_type": "stream",
          "name": "stdout",
          "text": [
            "Enter a non-negative number below 50: 40\n",
            "50 49 48 47 46 45 44 43 42 41 40 "
          ]
        }
      ],
      "source": [
        "num_str = input(\"Enter a non-negative number below 50: \")\n",
        "\n",
        "for i in num_str:\n",
        "    if i not in [str(x) for x in [i for i in range(0,10)]]:\n",
        "        raise Exception(\"Invalid number\")\n",
        "\n",
        "assert int(num_str) < 50, \"Number should be less than 50\"\n",
        "\n",
        "for i in range(50,int(num_str)-1,-1):\n",
        "    print(i, end=' ')"
      ]
    }
  ]
}