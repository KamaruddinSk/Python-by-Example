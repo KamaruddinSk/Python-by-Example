{
  "nbformat": 4,
  "nbformat_minor": 0,
  "metadata": {
    "colab": {
      "name": "challenge28.ipynb",
      "provenance": [],
      "authorship_tag": "ABX9TyMPbqrHhLVl1utZq7Q2+aL7",
      "include_colab_link": true
    },
    "kernelspec": {
      "name": "python3",
      "display_name": "Python 3"
    },
    "language_info": {
      "name": "python"
    }
  },
  "cells": [
    {
      "cell_type": "markdown",
      "metadata": {
        "id": "view-in-github",
        "colab_type": "text"
      },
      "source": [
        "<a href=\"https://colab.research.google.com/github/KamaruddinSk/Python-by-Example/blob/main/challenge28.ipynb\" target=\"_parent\"><img src=\"https://colab.research.google.com/assets/colab-badge.svg\" alt=\"Open In Colab\"/></a>"
      ]
    },
    {
      "cell_type": "markdown",
      "source": [
        "Update program 027 so that it will display the answer to\n",
        "two decimal places."
      ],
      "metadata": {
        "id": "zTYDjax4qNNs"
      }
    },
    {
      "cell_type": "code",
      "execution_count": 1,
      "metadata": {
        "colab": {
          "base_uri": "https://localhost:8080/"
        },
        "id": "qy87gtdCqHPe",
        "outputId": "7ac6900b-9910-4c3f-9329-a3b29019f419"
      },
      "outputs": [
        {
          "output_type": "stream",
          "name": "stdout",
          "text": [
            "Enter a number with lots of decimal places: 54.345678249\n",
            "The new number is: 108.69\n"
          ]
        }
      ],
      "source": [
        "number = float(input(\"Enter a number with lots of decimal places: \"))\n",
        "number *= 2\n",
        "print(\"The new number is: {}\".format(round(number,2)))"
      ]
    }
  ]
}