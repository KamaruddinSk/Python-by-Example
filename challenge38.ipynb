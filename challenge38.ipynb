{
  "nbformat": 4,
  "nbformat_minor": 0,
  "metadata": {
    "colab": {
      "name": "challenge38.ipynb",
      "provenance": [],
      "authorship_tag": "ABX9TyN20fr61oumD8ngVHQ42uNR",
      "include_colab_link": true
    },
    "kernelspec": {
      "name": "python3",
      "display_name": "Python 3"
    },
    "language_info": {
      "name": "python"
    }
  },
  "cells": [
    {
      "cell_type": "markdown",
      "metadata": {
        "id": "view-in-github",
        "colab_type": "text"
      },
      "source": [
        "<a href=\"https://colab.research.google.com/github/KamaruddinSk/Python-by-Example/blob/main/challenge38.ipynb\" target=\"_parent\"><img src=\"https://colab.research.google.com/assets/colab-badge.svg\" alt=\"Open In Colab\"/></a>"
      ]
    },
    {
      "cell_type": "markdown",
      "source": [
        "Change program\n",
        "037 to also ask for a\n",
        "number. Display\n",
        "their name (one\n",
        "letter at a time on\n",
        "each line) and\n",
        "repeat this for the\n",
        "number of times\n",
        "they entered."
      ],
      "metadata": {
        "id": "Y-DgqtsoZR2M"
      }
    },
    {
      "cell_type": "code",
      "execution_count": 1,
      "metadata": {
        "colab": {
          "base_uri": "https://localhost:8080/"
        },
        "id": "gxHsPZ_-ZRNf",
        "outputId": "f0855544-6299-4e08-b5f7-56e892bd1926"
      },
      "outputs": [
        {
          "output_type": "stream",
          "name": "stdout",
          "text": [
            "Enter your name: Ramesh\n",
            "Enter a number: 3\n",
            "R\n",
            "a\n",
            "m\n",
            "e\n",
            "s\n",
            "h\n",
            "R\n",
            "a\n",
            "m\n",
            "e\n",
            "s\n",
            "h\n",
            "R\n",
            "a\n",
            "m\n",
            "e\n",
            "s\n",
            "h\n"
          ]
        }
      ],
      "source": [
        "name = input(\"Enter your name: \")\n",
        "count = int(input(\"Enter a number: \"))\n",
        "augmented_name = name * count\n",
        "for i in augmented_name:\n",
        "    print(i)"
      ]
    }
  ]
}