{
  "nbformat": 4,
  "nbformat_minor": 0,
  "metadata": {
    "colab": {
      "name": "challenge27.ipynb",
      "provenance": [],
      "authorship_tag": "ABX9TyMgGvDdQCdP3rm9MD6Cargl",
      "include_colab_link": true
    },
    "kernelspec": {
      "name": "python3",
      "display_name": "Python 3"
    },
    "language_info": {
      "name": "python"
    }
  },
  "cells": [
    {
      "cell_type": "markdown",
      "metadata": {
        "id": "view-in-github",
        "colab_type": "text"
      },
      "source": [
        "<a href=\"https://colab.research.google.com/github/KamaruddinSk/Python-by-Example/blob/main/challenge27.ipynb\" target=\"_parent\"><img src=\"https://colab.research.google.com/assets/colab-badge.svg\" alt=\"Open In Colab\"/></a>"
      ]
    },
    {
      "cell_type": "markdown",
      "source": [
        "Ask the user to enter a\n",
        "number with lots of\n",
        "decimal places. Multiply\n",
        "this number by two and\n",
        "display the answer.\n",
        "\n",
        "\n",
        "\n"
      ],
      "metadata": {
        "id": "htNdJ6BYosjT"
      }
    },
    {
      "cell_type": "code",
      "execution_count": 1,
      "metadata": {
        "colab": {
          "base_uri": "https://localhost:8080/"
        },
        "id": "RscKe5IFofxp",
        "outputId": "a091b9ed-9d4e-4e92-dc2a-3327845ac23f"
      },
      "outputs": [
        {
          "output_type": "stream",
          "name": "stdout",
          "text": [
            "Enter a number with lots of decimal places: 54.3456782459\n",
            "The new number is: 108.6913564918\n"
          ]
        }
      ],
      "source": [
        "number = float(input(\"Enter a number with lots of decimal places: \"))\n",
        "number *= 2\n",
        "print(\"The new number is: {}\".format(number))"
      ]
    }
  ]
}