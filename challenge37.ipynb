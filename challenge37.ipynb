{
  "nbformat": 4,
  "nbformat_minor": 0,
  "metadata": {
    "colab": {
      "name": "challenge37.ipynb",
      "provenance": [],
      "authorship_tag": "ABX9TyM82ZJoDg9W6V88zX9pKvHf",
      "include_colab_link": true
    },
    "kernelspec": {
      "name": "python3",
      "display_name": "Python 3"
    },
    "language_info": {
      "name": "python"
    }
  },
  "cells": [
    {
      "cell_type": "markdown",
      "metadata": {
        "id": "view-in-github",
        "colab_type": "text"
      },
      "source": [
        "<a href=\"https://colab.research.google.com/github/KamaruddinSk/Python-by-Example/blob/main/challenge37.ipynb\" target=\"_parent\"><img src=\"https://colab.research.google.com/assets/colab-badge.svg\" alt=\"Open In Colab\"/></a>"
      ]
    },
    {
      "cell_type": "markdown",
      "source": [
        "Ask the user to enter their name and display each letter in\n",
        "their name on a separate line."
      ],
      "metadata": {
        "id": "g2W06Y7aYt2g"
      }
    },
    {
      "cell_type": "code",
      "execution_count": 1,
      "metadata": {
        "colab": {
          "base_uri": "https://localhost:8080/"
        },
        "id": "iUw0qbE8YtF_",
        "outputId": "3756f1d0-dcaa-482c-bf55-3f7a3d613c02"
      },
      "outputs": [
        {
          "output_type": "stream",
          "name": "stdout",
          "text": [
            "Enter your name: Ramesh\n",
            "R\n",
            "a\n",
            "m\n",
            "e\n",
            "s\n",
            "h\n"
          ]
        }
      ],
      "source": [
        "name = input(\"Enter your name: \")\n",
        "for i in name:\n",
        "    print(i)"
      ]
    }
  ]
}